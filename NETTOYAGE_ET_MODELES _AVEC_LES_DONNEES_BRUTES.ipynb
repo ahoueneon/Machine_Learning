{
 "cells": [
  {
   "cell_type": "markdown",
   "id": "502ffeee",
   "metadata": {},
   "source": [
    "# EXERCICE DE PRATIQUE AVEC PROFESSEUR ERIC MATZNER"
   ]
  },
  {
   "cell_type": "code",
   "execution_count": 1,
   "id": "efec2e85",
   "metadata": {},
   "outputs": [],
   "source": [
    "import pandas as pd\n",
    "import numpy as np\n",
    "import matplotlib.pyplot as plt\n",
    "from sklearn.neighbors import KNeighborsClassifier,KNeighborsRegressor\n",
    "from sklearn.linear_model import LinearRegression,LogisticRegression,ElasticNet, Ridge, Lasso\n",
    "from sklearn.metrics import mean_squared_error,roc_curve,roc_auc_score,r2_score\n",
    "from sklearn.model_selection import cross_val_score,KFold,cross_val_predict,train_test_split,GridSearchCV\n",
    "from sklearn.svm import SVC\n",
    "from sklearn.model_selection import RandomizedSearchCV\n",
    "from sklearn.metrics import confusion_matrix, classification_report, accuracy_score\n",
    "from mlxtend.plotting import plot_confusion_matrix\n",
    "from sklearn.preprocessing import StandardScaler,Normalizer, MaxAbsScaler,normalize #pour normaliser un vecteur \n",
    "from sklearn.pipeline import Pipeline\n",
    "from sklearn.tree import DecisionTreeClassifier,DecisionTreeRegressor\n",
    "from sklearn.ensemble import BaggingClassifier,BaggingRegressor,VotingClassifier\n",
    "from sklearn.ensemble import RandomForestRegressor,RandomForestClassifier\n",
    "from sklearn.ensemble import GradientBoostingRegressor,GradientBoostingClassifier,AdaBoostClassifier\n",
    "import xgboost as xgb\n",
    "from xgboost import XGBClassifier\n",
    "from sklearn.feature_extraction import DictVectorizer\n",
    "#from sklearn.feature_extraction import TfidfVectorizer\n",
    "from sklearn.preprocessing import OneHotEncoder,LabelEncoder\n",
    "from sklearn_pandas import DataFrameMapper\n",
    "from sklearn.pipeline import FeatureUnion \n",
    "from sklearn.discriminant_analysis import LinearDiscriminantAnalysis, QuadraticDiscriminantAnalysis\n",
    "import time"
   ]
  },
  {
   "cell_type": "markdown",
   "id": "5c259fd7",
   "metadata": {},
   "source": [
    "## Nettoyage"
   ]
  },
  {
   "cell_type": "code",
   "execution_count": 2,
   "id": "20ea2a34",
   "metadata": {},
   "outputs": [],
   "source": [
    "fichier = pd.read_csv(\"D:/BUREAU/infos/Cours_Eric_Matzner/vin.csv\")"
   ]
  },
  {
   "cell_type": "code",
   "execution_count": 3,
   "id": "b2a053bf",
   "metadata": {},
   "outputs": [
    {
     "data": {
      "text/html": [
       "<div>\n",
       "<style scoped>\n",
       "    .dataframe tbody tr th:only-of-type {\n",
       "        vertical-align: middle;\n",
       "    }\n",
       "\n",
       "    .dataframe tbody tr th {\n",
       "        vertical-align: top;\n",
       "    }\n",
       "\n",
       "    .dataframe thead th {\n",
       "        text-align: right;\n",
       "    }\n",
       "</style>\n",
       "<table border=\"1\" class=\"dataframe\">\n",
       "  <thead>\n",
       "    <tr style=\"text-align: right;\">\n",
       "      <th></th>\n",
       "      <th>fixed.acidity</th>\n",
       "      <th>volatile.acidity</th>\n",
       "      <th>citric.acid</th>\n",
       "      <th>residual.sugar</th>\n",
       "      <th>chlorides</th>\n",
       "      <th>free.sulfur.dioxide</th>\n",
       "      <th>total.sulfur.dioxide</th>\n",
       "      <th>density</th>\n",
       "      <th>pH</th>\n",
       "      <th>sulphates</th>\n",
       "      <th>alcohol</th>\n",
       "      <th>quality</th>\n",
       "    </tr>\n",
       "  </thead>\n",
       "  <tbody>\n",
       "    <tr>\n",
       "      <th>0</th>\n",
       "      <td>7.4</td>\n",
       "      <td>0.70</td>\n",
       "      <td>0.00</td>\n",
       "      <td>1.9</td>\n",
       "      <td>0.076</td>\n",
       "      <td>11.0</td>\n",
       "      <td>34.0</td>\n",
       "      <td>0.9978</td>\n",
       "      <td>3.51</td>\n",
       "      <td>0.56</td>\n",
       "      <td>9.4</td>\n",
       "      <td>mauvais</td>\n",
       "    </tr>\n",
       "    <tr>\n",
       "      <th>1</th>\n",
       "      <td>7.8</td>\n",
       "      <td>0.88</td>\n",
       "      <td>0.00</td>\n",
       "      <td>2.6</td>\n",
       "      <td>0.098</td>\n",
       "      <td>25.0</td>\n",
       "      <td>67.0</td>\n",
       "      <td>0.9968</td>\n",
       "      <td>3.20</td>\n",
       "      <td>0.68</td>\n",
       "      <td>9.8</td>\n",
       "      <td>mauvais</td>\n",
       "    </tr>\n",
       "    <tr>\n",
       "      <th>2</th>\n",
       "      <td>7.8</td>\n",
       "      <td>0.76</td>\n",
       "      <td>0.04</td>\n",
       "      <td>2.3</td>\n",
       "      <td>0.092</td>\n",
       "      <td>15.0</td>\n",
       "      <td>54.0</td>\n",
       "      <td>0.9970</td>\n",
       "      <td>3.26</td>\n",
       "      <td>0.65</td>\n",
       "      <td>9.8</td>\n",
       "      <td>mauvais</td>\n",
       "    </tr>\n",
       "    <tr>\n",
       "      <th>3</th>\n",
       "      <td>11.2</td>\n",
       "      <td>0.28</td>\n",
       "      <td>0.56</td>\n",
       "      <td>1.9</td>\n",
       "      <td>0.075</td>\n",
       "      <td>17.0</td>\n",
       "      <td>60.0</td>\n",
       "      <td>0.9980</td>\n",
       "      <td>3.16</td>\n",
       "      <td>0.58</td>\n",
       "      <td>9.8</td>\n",
       "      <td>bon</td>\n",
       "    </tr>\n",
       "    <tr>\n",
       "      <th>4</th>\n",
       "      <td>7.4</td>\n",
       "      <td>0.70</td>\n",
       "      <td>0.00</td>\n",
       "      <td>1.9</td>\n",
       "      <td>0.076</td>\n",
       "      <td>11.0</td>\n",
       "      <td>34.0</td>\n",
       "      <td>0.9978</td>\n",
       "      <td>3.51</td>\n",
       "      <td>0.56</td>\n",
       "      <td>9.4</td>\n",
       "      <td>mauvais</td>\n",
       "    </tr>\n",
       "  </tbody>\n",
       "</table>\n",
       "</div>"
      ],
      "text/plain": [
       "   fixed.acidity  volatile.acidity  citric.acid  residual.sugar  chlorides  \\\n",
       "0            7.4              0.70         0.00             1.9      0.076   \n",
       "1            7.8              0.88         0.00             2.6      0.098   \n",
       "2            7.8              0.76         0.04             2.3      0.092   \n",
       "3           11.2              0.28         0.56             1.9      0.075   \n",
       "4            7.4              0.70         0.00             1.9      0.076   \n",
       "\n",
       "   free.sulfur.dioxide  total.sulfur.dioxide  density    pH  sulphates  \\\n",
       "0                 11.0                  34.0   0.9978  3.51       0.56   \n",
       "1                 25.0                  67.0   0.9968  3.20       0.68   \n",
       "2                 15.0                  54.0   0.9970  3.26       0.65   \n",
       "3                 17.0                  60.0   0.9980  3.16       0.58   \n",
       "4                 11.0                  34.0   0.9978  3.51       0.56   \n",
       "\n",
       "   alcohol  quality  \n",
       "0      9.4  mauvais  \n",
       "1      9.8  mauvais  \n",
       "2      9.8  mauvais  \n",
       "3      9.8      bon  \n",
       "4      9.4  mauvais  "
      ]
     },
     "execution_count": 3,
     "metadata": {},
     "output_type": "execute_result"
    }
   ],
   "source": [
    "fichier.head()"
   ]
  },
  {
   "cell_type": "code",
   "execution_count": 4,
   "id": "237325a9",
   "metadata": {},
   "outputs": [
    {
     "data": {
      "text/plain": [
       "(1599, 12)"
      ]
     },
     "execution_count": 4,
     "metadata": {},
     "output_type": "execute_result"
    }
   ],
   "source": [
    "fichier.shape"
   ]
  },
  {
   "cell_type": "code",
   "execution_count": 5,
   "id": "c18b7819",
   "metadata": {},
   "outputs": [
    {
     "name": "stdout",
     "output_type": "stream",
     "text": [
      "<class 'pandas.core.frame.DataFrame'>\n",
      "RangeIndex: 1599 entries, 0 to 1598\n",
      "Data columns (total 12 columns):\n",
      " #   Column                Non-Null Count  Dtype  \n",
      "---  ------                --------------  -----  \n",
      " 0   fixed.acidity         1599 non-null   float64\n",
      " 1   volatile.acidity      1599 non-null   float64\n",
      " 2   citric.acid           1599 non-null   float64\n",
      " 3   residual.sugar        1599 non-null   float64\n",
      " 4   chlorides             1599 non-null   float64\n",
      " 5   free.sulfur.dioxide   1599 non-null   float64\n",
      " 6   total.sulfur.dioxide  1599 non-null   float64\n",
      " 7   density               1599 non-null   float64\n",
      " 8   pH                    1599 non-null   float64\n",
      " 9   sulphates             1599 non-null   float64\n",
      " 10  alcohol               1599 non-null   float64\n",
      " 11  quality               1599 non-null   object \n",
      "dtypes: float64(11), object(1)\n",
      "memory usage: 150.0+ KB\n"
     ]
    }
   ],
   "source": [
    "fichier.info()"
   ]
  },
  {
   "cell_type": "code",
   "execution_count": 6,
   "id": "8fa97b98",
   "metadata": {},
   "outputs": [
    {
     "data": {
      "text/plain": [
       "fixed.acidity           0\n",
       "volatile.acidity        0\n",
       "citric.acid             0\n",
       "residual.sugar          0\n",
       "chlorides               0\n",
       "free.sulfur.dioxide     0\n",
       "total.sulfur.dioxide    0\n",
       "density                 0\n",
       "pH                      0\n",
       "sulphates               0\n",
       "alcohol                 0\n",
       "quality                 0\n",
       "dtype: int64"
      ]
     },
     "execution_count": 6,
     "metadata": {},
     "output_type": "execute_result"
    }
   ],
   "source": [
    "fichier.isna().sum()"
   ]
  },
  {
   "cell_type": "markdown",
   "id": "5d1b390d",
   "metadata": {},
   "source": [
    "On a aucune valeur manquante et toutes nos varaibles sont numeriques"
   ]
  },
  {
   "cell_type": "code",
   "execution_count": 4,
   "id": "ee1079f1",
   "metadata": {},
   "outputs": [
    {
     "data": {
      "text/plain": [
       "array(['mauvais', 'bon'], dtype=object)"
      ]
     },
     "execution_count": 4,
     "metadata": {},
     "output_type": "execute_result"
    }
   ],
   "source": [
    "(fichier[\"quality\"]).unique()"
   ]
  },
  {
   "cell_type": "code",
   "execution_count": 5,
   "id": "e818fcf7",
   "metadata": {},
   "outputs": [
    {
     "name": "stdout",
     "output_type": "stream",
     "text": [
      " %_bon:0.5347091932457786\n",
      " %_mauvais:0.4652908067542214\n"
     ]
    }
   ],
   "source": [
    "proportion_bon = len(fichier[fichier[\"quality\"]==\"bon\"])/fichier.shape[0]\n",
    "proportion_mauvais = len(fichier[fichier[\"quality\"]==\"mauvais\"])/fichier.shape[0]\n",
    "print(f\" %_bon:{proportion_bon}\")\n",
    "print(f\" %_mauvais:{proportion_mauvais}\")"
   ]
  },
  {
   "cell_type": "markdown",
   "id": "a518cc96",
   "metadata": {},
   "source": [
    "Alors nous sommes dans un cas dans lequel nos données sont bien equilibrées. On pourra donc aisément utilisé l'accuracy \n",
    "comme metrique."
   ]
  },
  {
   "cell_type": "code",
   "execution_count": 9,
   "id": "0389f3a2",
   "metadata": {},
   "outputs": [],
   "source": [
    "# fichier[\"Ne18\"] = pd.to_numeric(fichier[\"Ne18\"].str.replace(\".\", \"\"),errors=\"coerce\")"
   ]
  },
  {
   "cell_type": "code",
   "execution_count": 6,
   "id": "8bda2c87",
   "metadata": {},
   "outputs": [],
   "source": [
    "#recodage de la variable cible.\n",
    "\n",
    "conditions ={\"bon\":0,\"mauvais\":1}\n",
    "fichier[\"quality\"]= fichier[\"quality\"].map(conditions)"
   ]
  },
  {
   "cell_type": "code",
   "execution_count": 7,
   "id": "bf980eec",
   "metadata": {},
   "outputs": [
    {
     "data": {
      "text/plain": [
       "array([1, 0], dtype=int64)"
      ]
     },
     "execution_count": 7,
     "metadata": {},
     "output_type": "execute_result"
    }
   ],
   "source": [
    "(fichier[\"quality\"]).unique()"
   ]
  },
  {
   "cell_type": "markdown",
   "id": "2aa4db49",
   "metadata": {},
   "source": [
    "Pour des soucis de performances, on va reduire notre jeu de données tout en s'assurant qu'on a toujours les memes \n",
    "proportaions de bons et de mauvais"
   ]
  },
  {
   "cell_type": "code",
   "execution_count": 8,
   "id": "485d286e",
   "metadata": {},
   "outputs": [],
   "source": [
    "X = fichier.drop(\"quality\", axis=1)\n",
    "Y = fichier[\"quality\"]\n",
    "\n",
    "\n",
    "X_aband, X_final, Y_aband, Y_final = train_test_split(X, Y, test_size=0.4, stratify=Y, random_state=42)\n",
    "\n",
    "# On va utiliser X_final ey Y_final comme notre nouveau jeu de données. \n",
    "# stratify=Y : va nous permettre d'avoir les modalités de Y dans les memes proportions\n",
    "# test_size=0.4: Je ne veux conserver que 40% de mon jeu de données de depart"
   ]
  },
  {
   "cell_type": "markdown",
   "id": "3d6c9503",
   "metadata": {},
   "source": [
    "On va verifier qu'on a les memes proportions qu'au depart"
   ]
  },
  {
   "cell_type": "code",
   "execution_count": 9,
   "id": "664740dd",
   "metadata": {},
   "outputs": [
    {
     "name": "stdout",
     "output_type": "stream",
     "text": [
      " %_0:0.534375\n",
      " %_1:0.465625\n"
     ]
    }
   ],
   "source": [
    "proportion_bon = (len(Y_final[Y_final==0])/len(Y_final))\n",
    "proportion_mauvais = (len(Y_final[Y_final==1])/len(Y_final))\n",
    "\n",
    "print(f\" %_0:{proportion_bon}\")\n",
    "print(f\" %_1:{proportion_mauvais}\")"
   ]
  },
  {
   "cell_type": "markdown",
   "id": "f5f8d723",
   "metadata": {},
   "source": [
    "## Choix du bon Seuil  (certes les données ne sont pas déséquilibrées,  mais je fais quelque chose de global)"
   ]
  },
  {
   "cell_type": "markdown",
   "id": "f8f659e1",
   "metadata": {},
   "source": [
    "Nous sommes dans un cas de classification. Alors le choix du on seuil devient tres important. Il serait mieux d'aller \n",
    "avec le seuil naturel(le seuil qui permet de predire dans les memes proportions que les proportios de depart) selon\n",
    "l'émerite Professeur Eric Matzner.\n",
    "Comme le random Forest predit en general bien, faisons le choix de notre seuil en implementant un random Forest."
   ]
  },
  {
   "cell_type": "code",
   "execution_count": 10,
   "id": "9f0daa25",
   "metadata": {},
   "outputs": [
    {
     "name": "stdout",
     "output_type": "stream",
     "text": [
      "None\n"
     ]
    }
   ],
   "source": [
    "x_train,x_test,y_train,y_test = train_test_split(X_final,Y_final,random_state = 1, test_size = 0.2, stratify =Y_final)\n",
    "\n",
    "log = RandomForestClassifier()\n",
    "log.fit(x_train,y_train)\n",
    "pred_log = log.predict(x_test)\n",
    "pred_prob = log.predict_proba(x_test)[:,1] #pour avoir les proba dans la classe 1\n",
    "print(pred_prob.sort())"
   ]
  },
  {
   "cell_type": "code",
   "execution_count": 11,
   "id": "32a1306b",
   "metadata": {},
   "outputs": [
    {
     "name": "stdout",
     "output_type": "stream",
     "text": [
      "0.4899509803921569\n"
     ]
    },
    {
     "data": {
      "image/png": "[encoded data removed]",
      "text/plain": [
       "<Figure size 640x480 with 1 Axes>"
      ]
     },
     "metadata": {},
     "output_type": "display_data"
    }
   ],
   "source": [
    "taux_faux_pos, taux_vrai_pos, seuil = roc_curve(y_test,pred_prob)\n",
    "plt.plot([0,1],[0,1],'k--')\n",
    "plt.plot(taux_faux_pos, taux_vrai_pos)\n",
    "plt.xlabel(\"faux positif\")\n",
    "plt.ylabel(\"vrai positif\")\n",
    "plt.title(\"Logistic Regression ROC Curve\")\n",
    "print(roc_auc_score(y_test,pred_prob))"
   ]
  },
  {
   "cell_type": "markdown",
   "id": "bcd25089",
   "metadata": {},
   "source": [
    "Au regard de la coubre ROC, on remarque que le seuil de base n'est pas du tout bon."
   ]
  },
  {
   "cell_type": "code",
   "execution_count": 12,
   "id": "f0e4c0f3",
   "metadata": {},
   "outputs": [
    {
     "data": {
      "text/plain": [
       "array([0.01, 0.02, 0.03, 0.04, 0.04, 0.06, 0.06, 0.06, 0.07, 0.07, 0.08,\n",
       "       0.08, 0.08, 0.08, 0.08, 0.09, 0.09, 0.1 , 0.1 , 0.1 , 0.11, 0.11,\n",
       "       0.12, 0.12, 0.13, 0.14, 0.15, 0.16, 0.17, 0.18, 0.22, 0.22, 0.23,\n",
       "       0.24, 0.24, 0.25, 0.25, 0.26, 0.27, 0.27, 0.28, 0.29, 0.29, 0.3 ,\n",
       "       0.3 , 0.3 , 0.32, 0.33, 0.33, 0.33, 0.34, 0.34, 0.35, 0.36, 0.36,\n",
       "       0.36, 0.37, 0.38, 0.38, 0.38, 0.38, 0.39, 0.4 , 0.44, 0.45, 0.46,\n",
       "       0.46, 0.48, 0.48, 0.5 , 0.53, 0.54, 0.54, 0.55, 0.57, 0.59, 0.6 ,\n",
       "       0.6 , 0.6 , 0.61, 0.61, 0.62, 0.63, 0.63, 0.64, 0.65, 0.66, 0.66,\n",
       "       0.66, 0.67, 0.67, 0.68, 0.69, 0.71, 0.71, 0.72, 0.72, 0.72, 0.73,\n",
       "       0.74, 0.74, 0.74, 0.75, 0.75, 0.77, 0.79, 0.79, 0.79, 0.79, 0.8 ,\n",
       "       0.81, 0.81, 0.82, 0.84, 0.84, 0.85, 0.87, 0.88, 0.89, 0.89, 0.9 ,\n",
       "       0.94, 0.95, 0.95, 0.96, 0.97, 0.97, 0.97])"
      ]
     },
     "execution_count": 12,
     "metadata": {},
     "output_type": "execute_result"
    }
   ],
   "source": [
    "pred_prob #les probas de chaque individu dans la classe 1"
   ]
  },
  {
   "cell_type": "markdown",
   "id": "b6a0e64a",
   "metadata": {},
   "source": [
    "On sait que dans notre jeu de données, on a 0.46% de 1. "
   ]
  },
  {
   "cell_type": "code",
   "execution_count": 13,
   "id": "464750ed",
   "metadata": {},
   "outputs": [
    {
     "data": {
      "text/plain": [
       "58"
      ]
     },
     "execution_count": 13,
     "metadata": {},
     "output_type": "execute_result"
    }
   ],
   "source": [
    "int(0.46*len(pred_prob)) #l'index du seuil"
   ]
  },
  {
   "cell_type": "code",
   "execution_count": 14,
   "id": "ab813190",
   "metadata": {},
   "outputs": [
    {
     "name": "stdout",
     "output_type": "stream",
     "text": [
      "0.38\n"
     ]
    }
   ],
   "source": [
    "seuil_fixe = pred_prob[59]\n",
    "print(seuil_fixe) #une fois que ta probabilté est superieure ou égale à 0.4, On va te classer mauvais"
   ]
  },
  {
   "cell_type": "markdown",
   "id": "51b6c4fe",
   "metadata": {},
   "source": [
    "Voyons à quoi ressemble la courbe ROC dans avec le nouveau seuil qu'on s'est fixé."
   ]
  },
  {
   "cell_type": "code",
   "execution_count": 15,
   "id": "05e3fdc8",
   "metadata": {},
   "outputs": [
    {
     "data": {
      "image/png": "[encoded data removed]",
      "text/plain": [
       "<Figure size 800x800 with 1 Axes>"
      ]
     },
     "metadata": {},
     "output_type": "display_data"
    },
    {
     "name": "stdout",
     "output_type": "stream",
     "text": [
      "0.8541347776600337\n"
     ]
    }
   ],
   "source": [
    "from sklearn.metrics import roc_curve, auc\n",
    "import matplotlib.pyplot as plt\n",
    "\n",
    "\n",
    "# Création du modèle (Random Forest dans cet exemple)\n",
    "model = RandomForestClassifier()\n",
    "\n",
    "# Définir la stratégie de validation croisée\n",
    "kf = KFold(n_splits=5, shuffle=True, random_state=42)\n",
    "\n",
    "# Effectuer la validation croisée et obtenir les probabilités de classe\n",
    "probabilities = cross_val_predict(model, X_final, Y_final, cv=kf, method='predict_proba')[:, 1]\n",
    "\n",
    "# Convertissez les probabilités en prédictions en fonction du seuil fixe\n",
    "predictions = (probabilities > seuil_fixe).astype(int)\n",
    "\n",
    "# Calculer les taux de faux positifs et les taux de vrais positifs pour votre seuil fixe\n",
    "fpr, tpr, thresholds = roc_curve(Y_final, probabilities, drop_intermediate=False)\n",
    "idx_seuil_fixe = np.searchsorted(thresholds, seuil_fixe)\n",
    "fpr_seuil_fixe = fpr[idx_seuil_fixe]\n",
    "tpr_seuil_fixe = tpr[idx_seuil_fixe]\n",
    "\n",
    "# Tracer la courbe ROC spécifique à votre seuil fixe\n",
    "plt.figure(figsize=(8, 8))\n",
    "plt.plot(fpr, tpr, color='darkorange', lw=2, label='Courbe ROC')\n",
    "plt.scatter(fpr_seuil_fixe, tpr_seuil_fixe, color='red', label=f'Seuil = {seuil_fixe}', s=100, marker='o')\n",
    "plt.plot([0, 1], [0, 1], color='navy', lw=2, linestyle='--', label='Référence aléatoire')\n",
    "plt.xlabel('Taux de faux positifs')\n",
    "plt.ylabel('Taux de vrais positifs')\n",
    "plt.title('Courbe ROC spécifique au seuil fixe')\n",
    "plt.legend(loc=\"lower right\")\n",
    "plt.show()\n",
    "print(roc_auc_score(Y_final, probabilities))"
   ]
  },
  {
   "cell_type": "markdown",
   "id": "9c148ac6",
   "metadata": {},
   "source": [
    "AUC = 0.85 on peut dire qu'on a un bon seuil."
   ]
  },
  {
   "cell_type": "markdown",
   "id": "a654fb46",
   "metadata": {},
   "source": [
    "## Calibrage de mes differents modeles"
   ]
  },
  {
   "cell_type": "code",
   "execution_count": 20,
   "id": "47cbbfb6",
   "metadata": {},
   "outputs": [],
   "source": [
    "kf = KFold(n_splits=5, shuffle=True, random_state=42)"
   ]
  },
  {
   "cell_type": "markdown",
   "id": "cfd51e50",
   "metadata": {},
   "source": [
    "### Regression Logistic"
   ]
  },
  {
   "cell_type": "code",
   "execution_count": 21,
   "id": "5a0210e2",
   "metadata": {},
   "outputs": [],
   "source": [
    "# param_grid = {                          \n",
    "#     \"C\": [0.00001,0.001,1,10,100],   \n",
    "#     \"solver\": [\"sag\",\"lbfgs\",\"liblinear\"] ,\n",
    "#     \"max_iter\" :[10000,11000]\n",
    "# } \n",
    "\n",
    "# ridge = LogisticRegression(penalty=\"l2\")\n",
    "# ridge_cv = GridSearchCV(ridge, param_grid, cv=kf,scoring=\"accuracy\") \n",
    "# ridge_cv.fit(X,Y)\n",
    "\n",
    "# print(ridge_cv.best_params_)  # Affiche les meilleurs hyperparamètres\n",
    "# print(ridge_cv.best_score_)   # Affiche le meilleur score de validation croisée (R2 score)"
   ]
  },
  {
   "cell_type": "markdown",
   "id": "745921c4",
   "metadata": {},
   "source": [
    "### Ridge"
   ]
  },
  {
   "cell_type": "code",
   "execution_count": 22,
   "id": "6a4101d3",
   "metadata": {},
   "outputs": [],
   "source": [
    "# param_grid = {                          \n",
    "#     \"alpha\": [0.00001,0.001,1,10,100],   \n",
    "#     \"solver\": [\"sag\", \"lsqr\",\"auto\",\"svd\",\"cholesky\"] \n",
    "# }                                                      \n",
    "\n",
    "# ridge = Ridge()\n",
    "\n",
    "# ridge_cv = GridSearchCV(ridge, param_grid, cv=kf) \n",
    "# ridge_cv.fit(x_train, y_train)\n",
    "\n",
    "# print(ridge_cv.best_params_)  # Affiche les meilleurs hyperparamètres\n",
    "# print(ridge_cv.best_score_)   # Affiche le meilleur score de validation croisée (R2 score)\n"
   ]
  },
  {
   "cell_type": "markdown",
   "id": "5a764834",
   "metadata": {},
   "source": [
    "### Ridge pour Classification"
   ]
  },
  {
   "cell_type": "code",
   "execution_count": 23,
   "id": "c6e0734c",
   "metadata": {},
   "outputs": [],
   "source": [
    "# param_grid = {                          \n",
    "#     \"C\": [0.00001,0.001,1,10,100],   \n",
    "#     \"solver\": [\"sag\",\"lbfgs\",\"liblinear\"] ,\n",
    "#     \"max_iter\" :[10000,11000]\n",
    "# } \n",
    "\n",
    "\n",
    "# ridge = LogisticRegression(penalty=\"l2\")\n",
    "# ridge_cv = GridSearchCV(ridge, param_grid, cv=kf,scoring='accuracy') \n",
    "# probabilities = cross_val_predict(model, X_final, Y_final, cv=kf, method='predict_proba')[:, 1]\n",
    "\n",
    "# seuil_fixe = 0.5\n",
    "\n",
    "# # Convertissez les probabilités en prédictions en fonction du seuil fixe\n",
    "# predictions = (probabilities > seuil_fixe).astype(int)\n",
    "\n",
    "\n",
    "# print(ridge_cv.best_params_)  \n",
    "# print(ridge_cv.best_score_)   "
   ]
  },
  {
   "cell_type": "code",
   "execution_count": 24,
   "id": "c5af287f",
   "metadata": {},
   "outputs": [
    {
     "name": "stdout",
     "output_type": "stream",
     "text": [
      "{'C': 1, 'max_iter': 10000, 'solver': 'lbfgs'}\n",
      "0.7609375\n",
      "Accuracy avec seuil fixe:0.75\n"
     ]
    }
   ],
   "source": [
    "# # Paramètres pour la recherche sur grille\n",
    "# param_grid = {\n",
    "#     \"C\": [0.00001, 0.001, 1, 10, 100],\n",
    "#     \"solver\": [\"sag\", \"lbfgs\", \"liblinear\"],\n",
    "#     \"max_iter\": [10000, 11000]\n",
    "# }\n",
    "\n",
    "# # Modèle de régression logistique\n",
    "# ridge = LogisticRegression(penalty=\"l2\")\n",
    "\n",
    "# # Recherche sur grille avec validation croisée\n",
    "# ridge_cv = GridSearchCV(ridge, param_grid, cv=kf, scoring='accuracy')\n",
    "# ridge_cv.fit(X_final, Y_final)\n",
    "\n",
    "# # Afficher les meilleurs paramètres et le meilleur score\n",
    "# print(ridge_cv.best_params_)\n",
    "# print(ridge_cv.best_score_)\n",
    "\n",
    "# # Obtenir les probabilités de classe avec la meilleure configuration\n",
    "# best_ridge_model = ridge_cv.best_estimator_\n",
    "# probabilities = cross_val_predict(best_ridge_model, X_final, Y_final, cv=kf, method='predict_proba')[:, 1]\n",
    "\n",
    "# # Convertissez les probabilités en prédictions binaires en fonction du seuil fixe\n",
    "# predictions = (probabilities > seuil_fixe).astype(int)\n",
    "\n",
    "# # Mesurez la performance avec le seuil fixe\n",
    "# accuracy = accuracy_score(Y_final, predictions)\n",
    "# print(f\"Accuracy avec seuil fixe:{accuracy}\")"
   ]
  },
  {
   "cell_type": "markdown",
   "id": "733b8fcc",
   "metadata": {},
   "source": [
    "### Lasso"
   ]
  },
  {
   "cell_type": "code",
   "execution_count": 25,
   "id": "bc1bec48",
   "metadata": {},
   "outputs": [],
   "source": [
    "# param_grid = {                          \n",
    "#     \"alpha\": [0.00001,0.001,1,10,100],   \n",
    "#     \"solver\": [\"sag\", \"lsqr\",\"auto\",\"svd\",\"cholesky\"] \n",
    "# }                                                      \n",
    "\n",
    "# lasso = Lasso()\n",
    "\n",
    "# lasso_cv = GridSearchCV(lasso, param_grid, cv=kf) \n",
    "# lasso.fit(X,Y)\n",
    "\n",
    "# print(lasso_cv.best_params_)  # Affiche les meilleurs hyperparamètres\n",
    "# print(lasso_cv.best_score_)   # Affiche le meilleur score de validation croisée (R2 score)"
   ]
  },
  {
   "cell_type": "markdown",
   "id": "b061d938",
   "metadata": {},
   "source": [
    "### Lasso en  pour Classification"
   ]
  },
  {
   "cell_type": "code",
   "execution_count": 26,
   "id": "fc7bb9ec",
   "metadata": {},
   "outputs": [
    {
     "name": "stdout",
     "output_type": "stream",
     "text": [
      "{'C': 10, 'max_iter': 11000, 'solver': 'liblinear'}\n",
      "0.75625\n",
      "Accuracy avec seuil fixe:0.7578125\n"
     ]
    }
   ],
   "source": [
    "# param_grid = {                          \n",
    "#     \"C\": [0.00001,0.001,1,10,100],   \n",
    "#     \"solver\": [\"liblinear\"] ,\n",
    "#     \"max_iter\" :[9000,10000,11000]\n",
    "# } \n",
    "\n",
    "# lasso = LogisticRegression(penalty=\"l1\")\n",
    "# lasso_cv = GridSearchCV(lasso, param_grid, cv=kf,scoring=\"accuracy\") \n",
    "# lasso_cv.fit(X_final,Y_final)\n",
    "\n",
    "# print(lasso_cv.best_params_)  \n",
    "# print(lasso_cv.best_score_)   \n",
    "\n",
    "# best_lasso_model = lasso_cv.best_estimator_\n",
    "# probabilities = cross_val_predict(best_lasso_model, X_final, Y_final, cv=kf, method='predict_proba')[:, 1]\n",
    "\n",
    "\n",
    "# predictions = (probabilities > seuil_fixe).astype(int)\n",
    "# accuracy = accuracy_score(Y_final, predictions)\n",
    "# print(f\"Accuracy avec seuil fixe:{accuracy}\")"
   ]
  },
  {
   "cell_type": "markdown",
   "id": "702c0a7e",
   "metadata": {},
   "source": [
    "## Elasticnets en Classification"
   ]
  },
  {
   "cell_type": "code",
   "execution_count": 27,
   "id": "02e258d3",
   "metadata": {},
   "outputs": [
    {
     "name": "stdout",
     "output_type": "stream",
     "text": [
      "{'C': 1, 'l1_ratio': 0.5, 'max_iter': 9000}\n",
      "0.75625\n",
      "Accuracy avec seuil fixe:0.71875\n"
     ]
    }
   ],
   "source": [
    "# param_grid = {                          \n",
    "#     \"C\": [0.00001,0.001,1,10,100],\n",
    "#     \"l1_ratio\": [0.1, 0.5, 0.7],\n",
    "#     \"max_iter\" :[9000,10000,11000]\n",
    "# } \n",
    "\n",
    "# elastic = LogisticRegression(penalty=\"elasticnet\", solver=\"saga\")\n",
    "# elastic_cv = GridSearchCV(elastic, param_grid, cv=kf,scoring=\"accuracy\") \n",
    "# elastic_cv.fit(X_final,Y_final)\n",
    "\n",
    "# print(elastic_cv.best_params_)  \n",
    "# print(elastic_cv.best_score_)   \n",
    "\n",
    "# best_elastic_model = elastic_cv.best_estimator_\n",
    "# probabilities = cross_val_predict(best_elastic_model, X_final, Y_final, cv=kf, method='predict_proba')[:, 1]\n",
    "\n",
    "\n",
    "# predictions = (probabilities > seuil_fixe).astype(int)\n",
    "# accuracy = accuracy_score(Y_final, predictions)\n",
    "# print(f\"Accuracy avec seuil fixe:{accuracy}\")"
   ]
  },
  {
   "cell_type": "markdown",
   "id": "9224c8cf",
   "metadata": {},
   "source": [
    "### Regression Logistique"
   ]
  },
  {
   "cell_type": "code",
   "execution_count": 28,
   "id": "cb5c45c2",
   "metadata": {},
   "outputs": [
    {
     "name": "stdout",
     "output_type": "stream",
     "text": [
      "{'C': 1e-05, 'max_iter': 10000}\n",
      "0.6125\n",
      "Accuracy avec seuil fixe:0.5015625\n"
     ]
    }
   ],
   "source": [
    "# param_grid = {                          \n",
    "#     \"C\": [0.0000001,0.000001,0.00001],   \n",
    "#     \"max_iter\" :[10000,11000]\n",
    "# }\n",
    "\n",
    "# Logistic = LogisticRegression()\n",
    "\n",
    "# Logistic_cv = GridSearchCV(Logistic, param_grid, cv=kf,scoring=\"accuracy\") \n",
    "# Logistic_cv.fit(X_final,Y_final)\n",
    "\n",
    "# print(Logistic_cv.best_params_)  \n",
    "# print(Logistic_cv.best_score_)  \n",
    "\n",
    "# best_logistic_model = Logistic_cv.best_estimator_\n",
    "# probabilities = cross_val_predict(best_logistic_model, X_final, Y_final, cv=kf, method='predict_proba')[:, 1]\n",
    "\n",
    "\n",
    "# predictions = (probabilities > seuil_fixe).astype(int)\n",
    "# accuracy = accuracy_score(Y_final, predictions)\n",
    "# print(f\"Accuracy avec seuil fixe:{accuracy}\")"
   ]
  },
  {
   "cell_type": "markdown",
   "id": "841898b4",
   "metadata": {},
   "source": [
    "### Arbre de Décision Regression"
   ]
  },
  {
   "cell_type": "code",
   "execution_count": 29,
   "id": "bea778eb",
   "metadata": {},
   "outputs": [],
   "source": [
    "# param_grid = {\n",
    "#     \"max_depth\": [1000],\n",
    "#     \"min_samples_split\": [15,16,17],\n",
    "#     \"min_samples_leaf\": [23,24,25]\n",
    "# }\n",
    "\n",
    "# Arbre = DecisionTreeRegressor()\n",
    "\n",
    "# Arbre_cv = GridSearchCV(Arbre, param_grid, cv=kf)\n",
    "# Arbre_cv.fit(X,Y)\n",
    "\n",
    "# print(Arbre_cv.best_params_)\n",
    "# print(Arbre_cv.best_score_)"
   ]
  },
  {
   "cell_type": "markdown",
   "id": "6a5a85ae",
   "metadata": {},
   "source": [
    "### Arbre de Decision Classification"
   ]
  },
  {
   "cell_type": "code",
   "execution_count": 30,
   "id": "586663d7",
   "metadata": {},
   "outputs": [
    {
     "name": "stdout",
     "output_type": "stream",
     "text": [
      "{'max_depth': 500, 'min_samples_leaf': 8, 'min_samples_split': 5}\n",
      "0.7546875\n",
      "Accuracy avec seuil fixe:0.734375\n"
     ]
    }
   ],
   "source": [
    "# param_grid = {\n",
    "#     \"max_depth\": [500,1000],\n",
    "#     \"min_samples_split\": [10,5,15],\n",
    "#     \"min_samples_leaf\": [5,7,8]\n",
    "# }\n",
    "\n",
    "# Arbre = DecisionTreeClassifier()\n",
    "\n",
    "# Arbre_cv = GridSearchCV(Arbre, param_grid, cv=kf,scoring=\"accuracy\")\n",
    "# Arbre_cv.fit(X_final,Y_final)\n",
    "\n",
    "# print(Arbre_cv.best_params_)\n",
    "# print(Arbre_cv.best_score_)\n",
    "\n",
    "# best_Arbre_model = Arbre_cv.best_estimator_\n",
    "# probabilities = cross_val_predict(best_Arbre_model, X_final, Y_final, cv=kf, method='predict_proba')[:, 1]\n",
    "\n",
    "\n",
    "# predictions = (probabilities > seuil_fixe).astype(int)\n",
    "# accuracy = accuracy_score(Y_final, predictions)\n",
    "# print(f\"Accuracy avec seuil fixe:{accuracy}\")"
   ]
  },
  {
   "cell_type": "markdown",
   "id": "4457ed35",
   "metadata": {},
   "source": [
    "### Random Forest Regression"
   ]
  },
  {
   "cell_type": "code",
   "execution_count": 31,
   "id": "6e9fd44f",
   "metadata": {},
   "outputs": [],
   "source": [
    "# a = int((len(fichier.columns))/3)\n",
    "# param_grid = {                          \n",
    "#     \"n_estimators\": [400,700,900,3000],   \n",
    "#     \"min_samples_leaf\": [1,3,5],\n",
    "#     \"max_features\"= [a-1,a,a+1]\n",
    "# }\n",
    "\n",
    "# RandomForest = RandomForestRegressor()\n",
    "\n",
    "# RandomForest_cv = GridSearchCV(RandomForest, param_grid, cv=kf)\n",
    "# RandomForest_cv.fit(X,Y)\n",
    "\n",
    "# print(RandomForest_cv.best_params_)\n",
    "# print(RandomForest.best_score_)"
   ]
  },
  {
   "cell_type": "markdown",
   "id": "236dee73",
   "metadata": {},
   "source": [
    "### Random Forest Classification"
   ]
  },
  {
   "cell_type": "code",
   "execution_count": 32,
   "id": "81526d46",
   "metadata": {},
   "outputs": [
    {
     "name": "stdout",
     "output_type": "stream",
     "text": [
      "{'max_features': 2, 'min_samples_leaf': 1, 'n_estimators': 1000}\n",
      "0.809375\n",
      "Accuracy avec seuil fixe:0.7953125\n"
     ]
    }
   ],
   "source": [
    "# a = int(np.sqrt(len(fichier.columns)))\n",
    "# param_grid = {                          \n",
    "#     \"n_estimators\": [900,1000,1200],   \n",
    "#     \"min_samples_leaf\": [1],\n",
    "#     \"max_features\": [a-1,a,a+1]\n",
    "# }\n",
    "\n",
    "# Random = RandomForestClassifier()\n",
    "\n",
    "# Random_cv = GridSearchCV(Random, param_grid, cv=kf,scoring=\"accuracy\")\n",
    "# Random_cv.fit(X_final,Y_final)\n",
    "\n",
    "# print(Random_cv.best_params_)\n",
    "# print(Random_cv.best_score_)\n",
    "\n",
    "# best_Random_model = Random_cv.best_estimator_\n",
    "# probabilities = cross_val_predict(best_Random_model, X_final, Y_final, cv=kf, method='predict_proba')[:, 1]\n",
    "\n",
    "\n",
    "# predictions = (probabilities > seuil_fixe).astype(int)\n",
    "# accuracy = accuracy_score(Y_final, predictions)\n",
    "# print(f\"Accuracy avec seuil fixe:{accuracy}\")"
   ]
  },
  {
   "cell_type": "markdown",
   "id": "1db4b3d6",
   "metadata": {},
   "source": [
    "### SVM en Regression"
   ]
  },
  {
   "cell_type": "code",
   "execution_count": null,
   "id": "2f1b536c",
   "metadata": {},
   "outputs": [],
   "source": []
  },
  {
   "cell_type": "markdown",
   "id": "1c90c7fb",
   "metadata": {},
   "source": [
    "### SVM en Classification"
   ]
  },
  {
   "cell_type": "code",
   "execution_count": 33,
   "id": "cb1c38b4",
   "metadata": {},
   "outputs": [
    {
     "name": "stdout",
     "output_type": "stream",
     "text": [
      "{'C': 1, 'kernel': 'linear'}\n",
      "0.7703125\n",
      "Accuracy avec seuil fixe:0.746875\n"
     ]
    }
   ],
   "source": [
    "# param_grid = {                          \n",
    "#     \"kernel\": ['linear','rbf','poly'],   \n",
    "#     \"C\": [0.1,1,3,5] \n",
    "# }\n",
    "\n",
    "# svm = SVC(probability=True)\n",
    "\n",
    "# svm_cv = GridSearchCV(svm, param_grid, cv=kf,scoring=\"accuracy\")\n",
    "# svm_cv.fit(X_final,Y_final)\n",
    "\n",
    "# print(svm_cv.best_params_)\n",
    "# print(svm_cv.best_score_)\n",
    "\n",
    "# best_svm_model =svm_cv.best_estimator_\n",
    "# probabilities = cross_val_predict(best_svm_model, X_final, Y_final, cv=kf, method='predict_proba')[:, 1]\n",
    "\n",
    "# predictions = (probabilities > seuil_fixe).astype(int)\n",
    "# accuracy = accuracy_score(Y_final, predictions)\n",
    "# print(f\"Accuracy avec seuil fixe:{accuracy}\")"
   ]
  },
  {
   "cell_type": "markdown",
   "id": "794834f8",
   "metadata": {},
   "source": [
    "### XGBoost Regression"
   ]
  },
  {
   "cell_type": "code",
   "execution_count": 34,
   "id": "a0219c55",
   "metadata": {},
   "outputs": [],
   "source": [
    "# gbm_param_grid = {\n",
    "#     'colsample_bytree': [0.3, 0.7,0.9],\n",
    "#     \"n_estimators\": [500,1000,2000],\n",
    "#     \"max_depth\": [2,3,5]\n",
    "#     \"eta_vals\" = [0.001, 0.01, 0.1]\n",
    "# }\n",
    "\n",
    "# gbm = xgb.XGBRegressor()\n",
    "\n",
    "# grid_mse = GridSearchCV(estimator=gbm,param_grid=gbm_param_grid,scoring=\"neg_mean_squared_error\",verbose=1,cv=kf)\n",
    "\n",
    "\n",
    "# # Fit grid_mse to the data\n",
    "# grid_mse.fit(X_train1,y_train1)\n",
    "\n",
    "# # Print the best parameters and lowest RMSE\n",
    "# print(\"Best parameters found: \", grid_mse.best_params_)\n",
    "# print(\"Lowest RMSE found: \", np.sqrt(np.abs(grid_mse.best_score_)))"
   ]
  },
  {
   "cell_type": "markdown",
   "id": "29aa265d",
   "metadata": {},
   "source": [
    "### XGBoost classification"
   ]
  },
  {
   "cell_type": "code",
   "execution_count": 35,
   "id": "47ded29d",
   "metadata": {},
   "outputs": [
    {
     "name": "stdout",
     "output_type": "stream",
     "text": [
      "{'colsample_bytree': 0.6, 'max_depth': 15, 'n_estimators': 20, 'num_class': 2, 'objective': 'multi:softmax'}\n",
      "0.790625\n",
      "Accuracy avec seuil fixe:0.778125\n"
     ]
    }
   ],
   "source": [
    "# param_grid = {\n",
    "#     'colsample_bytree': [0.6, 0.7,0.8],\n",
    "#     \"n_estimators\": [20,25,30,50,100],\n",
    "#     \"max_depth\": [10,12,15],\n",
    "#     \"objective\":[\"multi:softmax\"],\n",
    "#     \"num_class\":[2]\n",
    "# }\n",
    "\n",
    "# xgb_classifier = xgb.XGBClassifier() \n",
    "\n",
    "# xgb_classifier_cv = GridSearchCV(xgb_classifier,param_grid,cv=kf,scoring=\"accuracy\")\n",
    "# xgb_classifier_cv.fit(X_final,Y_final)\n",
    "\n",
    "# print(xgb_classifier_cv.best_params_)\n",
    "# print(xgb_classifier_cv.best_score_)\n",
    "\n",
    "# best_xgb_model = xgb_classifier_cv.best_estimator_\n",
    "# probabilities = cross_val_predict(best_xgb_model, X_final, Y_final, cv=kf, method='predict_proba')[:, 1]\n",
    "\n",
    "\n",
    "# predictions = (probabilities > seuil_fixe).astype(int)\n",
    "# accuracy = accuracy_score(Y_final, predictions)\n",
    "# print(f\"Accuracy avec seuil fixe:{accuracy}\")"
   ]
  },
  {
   "cell_type": "markdown",
   "id": "9f60e382",
   "metadata": {},
   "source": [
    "### Gradient Boosting "
   ]
  },
  {
   "cell_type": "code",
   "execution_count": 36,
   "id": "2e71c90d",
   "metadata": {},
   "outputs": [
    {
     "name": "stdout",
     "output_type": "stream",
     "text": [
      "{'max_depth': 5, 'n_estimators': 100}\n",
      "0.79375\n",
      "Accuracy avec seuil fixe:0.7859375\n"
     ]
    }
   ],
   "source": [
    "# param_grid = {\n",
    "#     \"n_estimators\": [100,200,300],\n",
    "#     \"max_depth\": [3, 5, 10, 15],   \n",
    "# }\n",
    "\n",
    "# gb_classifier = GradientBoostingClassifier()\n",
    "\n",
    "# gb_classifier_cv = GridSearchCV(gb_classifier, param_grid, cv=kf,scoring=\"accuracy\")\n",
    "# gb_classifier_cv.fit(X_final, Y_final)\n",
    "\n",
    "\n",
    "# print(gb_classifier_cv.best_params_)\n",
    "# print(gb_classifier_cv.best_score_)\n",
    "\n",
    "# best_gradient_model = gb_classifier_cv.best_estimator_\n",
    "# probabilities = cross_val_predict(best_gradient_model, X_final, Y_final, cv=kf, method='predict_proba')[:, 1]\n",
    "\n",
    "# predictions = (probabilities > seuil_fixe).astype(int)\n",
    "# accuracy = accuracy_score(Y_final, predictions)\n",
    "# print(f\"Accuracy avec seuil fixe:{accuracy}\")"
   ]
  },
  {
   "cell_type": "markdown",
   "id": "22dfd3d2",
   "metadata": {},
   "source": [
    "### Adaboost"
   ]
  },
  {
   "cell_type": "code",
   "execution_count": 37,
   "id": "fe691119",
   "metadata": {},
   "outputs": [
    {
     "name": "stdout",
     "output_type": "stream",
     "text": [
      "{'algorithm': 'SAMME.R', 'learning_rate': 0.1, 'n_estimators': 100}\n",
      "0.7796875\n",
      "Accuracy avec seuil fixe:0.4703125\n"
     ]
    }
   ],
   "source": [
    "# param_grid = {\n",
    "#     \"n_estimators\": [70,80,100,200],\n",
    "#     \"learning_rate\": [0.001,0.1,0.2],\n",
    "#     \"algorithm\":[\"SAMME\",\"SAMME.R\"]\n",
    "# }\n",
    "\n",
    "# adaboost_classifier = AdaBoostClassifier()\n",
    "\n",
    "# adaboost_cv = GridSearchCV(adaboost_classifier, param_grid, cv=kf,scoring=\"accuracy\")\n",
    "# adaboost_cv.fit(X_final, Y_final)\n",
    "\n",
    "# print(adaboost_cv.best_params_)\n",
    "# print(adaboost_cv.best_score_)\n",
    "\n",
    "# best_adaboost_model = adaboost_cv.best_estimator_\n",
    "# probabilities = cross_val_predict(best_adaboost_model, X_final, Y_final, cv=kf, method='predict_proba')[:, 1]\n",
    "\n",
    "# predictions = (probabilities > seuil_fixe).astype(int)\n",
    "# accuracy = accuracy_score(Y_final, predictions)\n",
    "# print(f\"Accuracy avec seuil fixe:{accuracy}\")"
   ]
  },
  {
   "cell_type": "markdown",
   "id": "2a99143e",
   "metadata": {},
   "source": [
    "### Bagging"
   ]
  },
  {
   "cell_type": "code",
   "execution_count": 38,
   "id": "dbf4e223",
   "metadata": {},
   "outputs": [
    {
     "name": "stdout",
     "output_type": "stream",
     "text": [
      "{'max_features': 4, 'n_estimators': 300}\n",
      "0.7859375\n",
      "Accuracy avec seuil fixe:0.7625\n"
     ]
    }
   ],
   "source": [
    "# a = int(np.sqrt(len(fichier.columns)))\n",
    "# param_grid = {\n",
    "#     \"n_estimators\": [60,80,200,300],\n",
    "#     \"max_features\": [a-1,a,a+1],\n",
    "# }\n",
    "\n",
    "# base_classifier = DecisionTreeClassifier()\n",
    "# bagging_classifier = BaggingClassifier(base_classifier)  \n",
    "\n",
    "# bagging_classifier_cv = GridSearchCV(bagging_classifier, param_grid, cv=kf,scoring=\"accuracy\")\n",
    "# bagging_classifier_cv.fit(X_final, Y_final)\n",
    "\n",
    "# print(bagging_classifier_cv.best_params_)\n",
    "# print(bagging_classifier_cv.best_score_)\n",
    "\n",
    "# best_bagging_model = bagging_classifier_cv.best_estimator_\n",
    "# probabilities = cross_val_predict(best_bagging_model, X_final, Y_final, cv=kf, method='predict_proba')[:, 1]\n",
    "\n",
    "# predictions = (probabilities > seuil_fixe).astype(int)\n",
    "# accuracy = accuracy_score(Y_final, predictions)\n",
    "# print(f\"Accuracy avec seuil fixe:{accuracy}\")"
   ]
  },
  {
   "cell_type": "markdown",
   "id": "d95aa772",
   "metadata": {},
   "source": [
    "### K-plus proche voisin"
   ]
  },
  {
   "cell_type": "code",
   "execution_count": 39,
   "id": "95e5dbd4",
   "metadata": {},
   "outputs": [
    {
     "name": "stdout",
     "output_type": "stream",
     "text": [
      "{'n_neighbors': 1}\n",
      "0.65625\n",
      "Accuracy avec seuil fixe:0.65625\n"
     ]
    }
   ],
   "source": [
    "# param_grid = {'n_neighbors':[1,3,5,7]}\n",
    "\n",
    "# knn = KNeighborsClassifier()\n",
    "# knn_cv = GridSearchCV(knn, param_grid, cv=kf,scoring=\"accuracy\")\n",
    "# knn_cv.fit(X_final,Y_final)\n",
    "# print(knn_cv.best_params_)\n",
    "# print(knn_cv.best_score_)\n",
    "\n",
    "# best_knn_model = knn_cv.best_estimator_\n",
    "# probabilities = cross_val_predict(best_knn_model, X_final, Y_final, cv=kf, method='predict_proba')[:, 1]\n",
    "\n",
    "# predictions = (probabilities > seuil_fixe).astype(int)\n",
    "# accuracy = accuracy_score(Y_final, predictions)\n",
    "# print(f\"Accuracy avec seuil fixe:{accuracy}\")"
   ]
  },
  {
   "cell_type": "markdown",
   "id": "bd8cc447",
   "metadata": {},
   "source": [
    "## LDA"
   ]
  },
  {
   "cell_type": "code",
   "execution_count": 40,
   "id": "baa53bec",
   "metadata": {},
   "outputs": [
    {
     "name": "stdout",
     "output_type": "stream",
     "text": [
      "{'shrinkage': 0.1, 'solver': 'lsqr'}\n",
      "0.640625\n",
      "Accuracy avec seuil fixe:0.634375\n"
     ]
    },
    {
     "name": "stderr",
     "output_type": "stream",
     "text": [
      "C:\\Users\\hp\\AppData\\Local\\Packages\\PythonSoftwareFoundation.Python.3.10_qbz5n2kfra8p0\\LocalCache\\local-packages\\Python310\\site-packages\\sklearn\\model_selection\\_validation.py:378: FitFailedWarning: \n",
      "20 fits failed out of a total of 40.\n",
      "The score on these train-test partitions for these parameters will be set to nan.\n",
      "If these failures are not expected, you can try to debug them by setting error_score='raise'.\n",
      "\n",
      "Below are more details about the failures:\n",
      "--------------------------------------------------------------------------------\n",
      "20 fits failed with the following error:\n",
      "Traceback (most recent call last):\n",
      "  File \"C:\\Users\\hp\\AppData\\Local\\Packages\\PythonSoftwareFoundation.Python.3.10_qbz5n2kfra8p0\\LocalCache\\local-packages\\Python310\\site-packages\\sklearn\\model_selection\\_validation.py\", line 686, in _fit_and_score\n",
      "    estimator.fit(X_train, y_train, **fit_params)\n",
      "  File \"C:\\Users\\hp\\AppData\\Local\\Packages\\PythonSoftwareFoundation.Python.3.10_qbz5n2kfra8p0\\LocalCache\\local-packages\\Python310\\site-packages\\sklearn\\discriminant_analysis.py\", line 615, in fit\n",
      "    raise NotImplementedError(\"shrinkage not supported with 'svd' solver.\")\n",
      "NotImplementedError: shrinkage not supported with 'svd' solver.\n",
      "\n",
      "  warnings.warn(some_fits_failed_message, FitFailedWarning)\n",
      "C:\\Users\\hp\\AppData\\Local\\Packages\\PythonSoftwareFoundation.Python.3.10_qbz5n2kfra8p0\\LocalCache\\local-packages\\Python310\\site-packages\\sklearn\\model_selection\\_search.py:952: UserWarning: One or more of the test scores are non-finite: [      nan 0.640625        nan 0.634375        nan 0.6265625       nan\n",
      " 0.6140625]\n",
      "  warnings.warn(\n"
     ]
    }
   ],
   "source": [
    "# param_grid = {\n",
    "#     \"solver\": ['svd','lsqr'],\n",
    "#     \"shrinkage\": [0.1, 0.15, 0.2, 0.9],   \n",
    "# }\n",
    "\n",
    "# lda = LinearDiscriminantAnalysis()\n",
    "# lda_cv = GridSearchCV(lda, param_grid, cv=kf,scoring=\"accuracy\")\n",
    "# lda_cv.fit(X_final, Y_final)\n",
    "\n",
    "# print(lda_cv.best_params_)\n",
    "# print(lda_cv.best_score_)\n",
    "\n",
    "# best_lda_model = lda_cv.best_estimator_\n",
    "# probabilities = cross_val_predict(best_lda_model, X_final, Y_final, cv=kf, method='predict_proba')[:, 1]\n",
    "\n",
    "# predictions = (probabilities > seuil_fixe).astype(int)\n",
    "# accuracy = accuracy_score(Y_final, predictions)\n",
    "# print(f\"Accuracy avec seuil fixe:{accuracy}\")\n"
   ]
  },
  {
   "cell_type": "markdown",
   "id": "8b37d48b",
   "metadata": {},
   "source": [
    "## QDA"
   ]
  },
  {
   "cell_type": "code",
   "execution_count": 47,
   "id": "bb2b0df2",
   "metadata": {},
   "outputs": [
    {
     "name": "stdout",
     "output_type": "stream",
     "text": [
      "{'shrinkage': 0.15, 'solver': 'lsqr'}\n",
      "0.6359375\n",
      "Accuracy avec seuil fixe:0.6484375\n"
     ]
    },
    {
     "name": "stderr",
     "output_type": "stream",
     "text": [
      "C:\\Users\\hp\\AppData\\Local\\Packages\\PythonSoftwareFoundation.Python.3.10_qbz5n2kfra8p0\\LocalCache\\local-packages\\Python310\\site-packages\\sklearn\\model_selection\\_validation.py:378: FitFailedWarning: \n",
      "40 fits failed out of a total of 80.\n",
      "The score on these train-test partitions for these parameters will be set to nan.\n",
      "If these failures are not expected, you can try to debug them by setting error_score='raise'.\n",
      "\n",
      "Below are more details about the failures:\n",
      "--------------------------------------------------------------------------------\n",
      "40 fits failed with the following error:\n",
      "Traceback (most recent call last):\n",
      "  File \"C:\\Users\\hp\\AppData\\Local\\Packages\\PythonSoftwareFoundation.Python.3.10_qbz5n2kfra8p0\\LocalCache\\local-packages\\Python310\\site-packages\\sklearn\\model_selection\\_validation.py\", line 686, in _fit_and_score\n",
      "    estimator.fit(X_train, y_train, **fit_params)\n",
      "  File \"C:\\Users\\hp\\AppData\\Local\\Packages\\PythonSoftwareFoundation.Python.3.10_qbz5n2kfra8p0\\LocalCache\\local-packages\\Python310\\site-packages\\sklearn\\discriminant_analysis.py\", line 615, in fit\n",
      "    raise NotImplementedError(\"shrinkage not supported with 'svd' solver.\")\n",
      "NotImplementedError: shrinkage not supported with 'svd' solver.\n",
      "\n",
      "  warnings.warn(some_fits_failed_message, FitFailedWarning)\n",
      "C:\\Users\\hp\\AppData\\Local\\Packages\\PythonSoftwareFoundation.Python.3.10_qbz5n2kfra8p0\\LocalCache\\local-packages\\Python310\\site-packages\\sklearn\\model_selection\\_search.py:952: UserWarning: One or more of the test scores are non-finite: [      nan 0.6328125       nan 0.6359375       nan 0.634375        nan\n",
      " 0.6140625]\n",
      "  warnings.warn(\n"
     ]
    }
   ],
   "source": [
    "# param ={  \n",
    "#     'tol':[1e-4,0.001,0.1,0.9],\n",
    "#     \"solver\": ['svd','lsqr'],\n",
    "# }\n",
    "\n",
    "# qda = LinearDiscriminantAnalysis()\n",
    "# qda_cv = GridSearchCV(lda, param_grid, cv=kf,scoring=\"accuracy\")\n",
    "# qda_cv.fit(X_final, Y_final)\n",
    "\n",
    "# print(qda_cv.best_params_)\n",
    "# print(qda_cv.best_score_)\n",
    "\n",
    "# best_qda_model = qda_cv.best_estimator_\n",
    "# probabilities = cross_val_predict(best_qda_model, X_final, Y_final, cv=kf, method='predict_proba')[:, 1]\n",
    "\n",
    "# predictions = (probabilities > seuil_fixe).astype(int)\n",
    "# accuracy = accuracy_score(Y_final, predictions)\n",
    "# print(f\"Accuracy avec seuil fixe:{accuracy}\")"
   ]
  },
  {
   "cell_type": "code",
   "execution_count": null,
   "id": "4f1ca77a",
   "metadata": {},
   "outputs": [],
   "source": []
  },
  {
   "cell_type": "markdown",
   "id": "44713008",
   "metadata": {},
   "source": [
    "## Evaluation du meilleur modele"
   ]
  },
  {
   "cell_type": "code",
   "execution_count": null,
   "id": "42fefa90",
   "metadata": {},
   "outputs": [],
   "source": [
    "# classifiers = [\n",
    "#     ('Logistic_Logistique', best_logistic_model),\n",
    "#     ('Classification_Elastic', best_elastic_model),\n",
    "#     ('Classification_Ridge', best_ridge_model),\n",
    "#     ('Classification_Lasso', best_lasso_model),\n",
    "#     ('Arbre', best_Arbre_model),\n",
    "#     ('Random_Forest', best_Random_model),\n",
    "#     ('Xgboost', best_xgb_model),\n",
    "#     ('knn', best_knn_model),\n",
    "#     ('Gradient_boosting', best_gradient_model),\n",
    "#     ('adaboost_classifier', best_adaboost_model),\n",
    "#     ('Bagging', best_bagging_model),\n",
    "#     ('SVM', best_svm_model),\n",
    "#     ('LDA', best_lda_model),\n",
    "#     ('QDA', best_qda_model),\n",
    "#     ]\n",
    "\n",
    "# for name, classifier in classifiers:\n",
    "#     kf = KFold(n_splits=10, shuffle=True, random_state=1)\n",
    "#     y_pred = cross_val_predict(classifier, X_final, Y_final, cv=kf)\n",
    "#     acc = accuracy_score(Y_final, y_pred)\n",
    "#     print(f\"{name} : {np.mean(acc)}\")\n",
    "\n"
   ]
  },
  {
   "cell_type": "markdown",
   "id": "b80d3e4f",
   "metadata": {},
   "source": [
    "### Meme Processus que le precedant, mais avec tous les modeles dans une memes boucles (Pour ceux qui s'en sortent 😅)"
   ]
  },
  {
   "cell_type": "markdown",
   "id": "b7c710f6",
   "metadata": {},
   "source": [
    "### Choix des meilleurs Parametres"
   ]
  },
  {
   "cell_type": "code",
   "execution_count": 16,
   "id": "fd83ddcd",
   "metadata": {},
   "outputs": [
    {
     "name": "stderr",
     "output_type": "stream",
     "text": [
      "C:\\Users\\hp\\AppData\\Local\\Packages\\PythonSoftwareFoundation.Python.3.10_qbz5n2kfra8p0\\LocalCache\\local-packages\\Python310\\site-packages\\sklearn\\model_selection\\_validation.py:378: FitFailedWarning: \n",
      "20 fits failed out of a total of 40.\n",
      "The score on these train-test partitions for these parameters will be set to nan.\n",
      "If these failures are not expected, you can try to debug them by setting error_score='raise'.\n",
      "\n",
      "Below are more details about the failures:\n",
      "--------------------------------------------------------------------------------\n",
      "20 fits failed with the following error:\n",
      "Traceback (most recent call last):\n",
      "  File \"C:\\Users\\hp\\AppData\\Local\\Packages\\PythonSoftwareFoundation.Python.3.10_qbz5n2kfra8p0\\LocalCache\\local-packages\\Python310\\site-packages\\sklearn\\model_selection\\_validation.py\", line 686, in _fit_and_score\n",
      "    estimator.fit(X_train, y_train, **fit_params)\n",
      "  File \"C:\\Users\\hp\\AppData\\Local\\Packages\\PythonSoftwareFoundation.Python.3.10_qbz5n2kfra8p0\\LocalCache\\local-packages\\Python310\\site-packages\\sklearn\\discriminant_analysis.py\", line 615, in fit\n",
      "    raise NotImplementedError(\"shrinkage not supported with 'svd' solver.\")\n",
      "NotImplementedError: shrinkage not supported with 'svd' solver.\n",
      "\n",
      "  warnings.warn(some_fits_failed_message, FitFailedWarning)\n",
      "C:\\Users\\hp\\AppData\\Local\\Packages\\PythonSoftwareFoundation.Python.3.10_qbz5n2kfra8p0\\LocalCache\\local-packages\\Python310\\site-packages\\sklearn\\model_selection\\_search.py:952: UserWarning: One or more of the test scores are non-finite: [      nan 0.640625        nan 0.634375        nan 0.6265625       nan\n",
      " 0.6140625]\n",
      "  warnings.warn(\n"
     ]
    },
    {
     "name": "stdout",
     "output_type": "stream",
     "text": [
      "                 modele  Accuracy  Accuracy_avec_seuil  Temps_Execution\n",
      "0              logistic  0.612500             0.465625         0.326919\n",
      "1            elasticnet  0.756250             0.710938       115.529436\n",
      "2                 Ridge  0.760938             0.740625        26.439204\n",
      "3                 Lasso  0.756250             0.748437         2.064979\n",
      "4                 Arbre  0.754687             0.748437         0.589553\n",
      "5                Random  0.804688             0.785937       149.929924\n",
      "6               Xgboost  0.790625             0.778125        31.864110\n",
      "7                   knn  0.656250             0.656250         0.248586\n",
      "8     Gradient_boosting  0.790625             0.785937        61.303977\n",
      "9   adaboost_classifier  0.779687             0.465625        33.609842\n",
      "10              Bagging  0.792188             0.745313        29.626543\n",
      "11                  SVM  0.770312             0.743750        62.199835\n",
      "12                  LDA  0.640625             0.620313         0.199060\n",
      "13                  QDA  0.767188             0.750000         0.286916\n"
     ]
    }
   ],
   "source": [
    "kf = KFold(n_splits=5, shuffle=True, random_state=42)\n",
    "a = int(np.sqrt(len(X_final.columns)))\n",
    "\n",
    "dico =  {'logistic':LogisticRegression(), 'elastic':LogisticRegression(penalty=\"elasticnet\", solver=\"saga\"),\n",
    "        'ridge':LogisticRegression(penalty=\"l2\"),'lasso':LogisticRegression(penalty=\"l1\"),\n",
    "        'Arbre':DecisionTreeClassifier(),'Random':RandomForestClassifier(),'xgb':xgb.XGBClassifier(),\n",
    "        'knn':KNeighborsClassifier(),'Gradient_boosting':GradientBoostingClassifier(),'adaboost_classifier':AdaBoostClassifier(),\n",
    "        'Bagging':BaggingClassifier(DecisionTreeClassifier()),'SVM':SVC(probability=True),'LDA':LinearDiscriminantAnalysis(),\n",
    "        'QDA':LinearDiscriminantAnalysis()}\n",
    "\n",
    "param = [{\"C\": [0.0000001,0.000001,0.00001],\"max_iter\" :[10000,11000]},{\"C\": [0.00001,0.001,1,10,100],\"l1_ratio\": [0.1, 0.5, 0.7],\n",
    "        \"max_iter\" :[9000,10000,11000]},{\"C\": [0.00001, 0.001, 1, 10, 100],\"solver\": [\"sag\", \"lbfgs\", \"liblinear\"],\n",
    "       \"max_iter\": [10000, 11000]},{\"C\": [0.00001,0.001,1,10,100],\"solver\": [\"liblinear\"],\"max_iter\" :[9000,10000,11000]},\n",
    "        {\"max_depth\": [500,1000],\"min_samples_split\": [10,5,15],\"min_samples_leaf\": [5,7,8]},{\"n_estimators\": [900,1000,1200],\"min_samples_leaf\": [1],\n",
    "       \"max_features\": [a-1,a,a+1]},{'colsample_bytree': [0.6, 0.7,0.8],\"n_estimators\": [20,25,30,50,100],\"max_depth\": [10,12,15],\n",
    "       \"objective\":[\"multi:softmax\"],\"num_class\":[2]},{'n_neighbors':[1,3,5,7]},{\"n_estimators\": [100,200,300],\n",
    "       \"max_depth\": [3, 5, 10, 15]},{\"n_estimators\": [70,80,100,200],\"learning_rate\": [0.001,0.1,0.2],\"algorithm\":[\"SAMME\",\"SAMME.R\"]},\n",
    "       {\"n_estimators\": [60,80,200,300],\"max_features\": [a-1,a,a+1]},{\"kernel\": ['linear','rbf','poly'],   \n",
    "       \"C\": [0.1,1,3,5]},{\"solver\": ['svd','lsqr'],\"shrinkage\": [0.1, 0.15, 0.2, 0.9]},\n",
    "       {'tol':[1e-4,0.001,0.1,0.9],\"solver\": ['svd','lsqr']}]\n",
    "\n",
    "meilleurs_parametres = []\n",
    "Accuracy = []\n",
    "Accuracy_avec_seuil_fixe = []\n",
    "Best_Model = []\n",
    "temps = []\n",
    "i=0\n",
    "\n",
    "for nom, model in dico.items():\n",
    "    model = dico[nom]\n",
    "    model_cv= GridSearchCV(model, param_grid=param[i], cv=kf,scoring=\"accuracy\")\n",
    "    temps_debut = time.time()\n",
    "    model_cv.fit(X_final,Y_final)\n",
    "    temps_fin = time.time()\n",
    "    temps_execution = temps_fin - temps_debut\n",
    "    temps.append(temps_execution)\n",
    "    #meilleurs_parametres.append(model_cv.best_params_)\n",
    "    Accuracy.append(model_cv.best_score_)\n",
    "    best_model = model_cv.best_estimator_\n",
    "    Best_Model.append(best_model)\n",
    "    proba = cross_val_predict( best_model,X_final, Y_final, cv = kf, method='predict_proba')[:,1]\n",
    "    predictions = (proba > seuil_fixe).astype(int)\n",
    "    accuracy = accuracy_score(Y_final,predictions)\n",
    "    Accuracy_avec_seuil_fixe.append(accuracy)\n",
    "    i = i+1\n",
    "resultats = pd.DataFrame({\"modele\":['logistic','elasticnet','Ridge','Lasso','Arbre','Random','Xgboost','knn','Gradient_boosting',\n",
    "                                  'adaboost_classifier', 'Bagging','SVM','LDA','QDA'],\n",
    "                                   \"Accuracy\":Accuracy,\"Accuracy_avec_seuil\":Accuracy_avec_seuil_fixe,'Temps_Execution':temps})\n",
    "print(resultats)"
   ]
  },
  {
   "cell_type": "markdown",
   "id": "aa56d490",
   "metadata": {},
   "source": [
    "### Choix du meilleur Modele"
   ]
  },
  {
   "cell_type": "code",
   "execution_count": 20,
   "id": "12f349ef",
   "metadata": {},
   "outputs": [
    {
     "name": "stdout",
     "output_type": "stream",
     "text": [
      "                 Modele  Accuracy_seuil\n",
      "0              logistic        0.471875\n",
      "1            elasticnet        0.712500\n",
      "2                 Ridge        0.742188\n",
      "3                 Lasso        0.748437\n",
      "4                 Arbre        0.732812\n",
      "5                Random        0.792188\n",
      "6               Xgboost        0.770312\n",
      "7                   knn        0.685937\n",
      "8     Gradient_boosting        0.779687\n",
      "9   adaboost_classifier        0.476562\n",
      "10              Bagging        0.760938\n",
      "11                  SVM        0.740625\n",
      "12                  LDA        0.632812\n",
      "13                  QDA        0.746875\n"
     ]
    }
   ],
   "source": [
    "liste = [] \n",
    "for classif in Best_Model:\n",
    "    kf = KFold(n_splits=10, shuffle=True, random_state=1)\n",
    "    proba = cross_val_predict(classif,X_final, Y_final, cv = kf, method='predict_proba')[:,1]\n",
    "    predictions = (proba > seuil_fixe).astype(int)\n",
    "    acc = accuracy_score(Y_final, predictions)\n",
    "    liste.append(acc)\n",
    "\n",
    "resultats_final = pd.DataFrame({\"Modele\":['logistic','elasticnet','Ridge','Lasso','Arbre','Random','Xgboost','knn','Gradient_boosting',\n",
    "                                  'adaboost_classifier', 'Bagging','SVM','LDA','QDA'],\"Accuracy_seuil\":liste})\n",
    "print(resultats_final)"
   ]
  },
  {
   "cell_type": "markdown",
   "id": "eec5432a",
   "metadata": {},
   "source": [
    "##### Conclusion: Les Meilleurs Sont RandomForest , XGBoost et  Gradient Boosting et Bagging qui ont quasiment les memes scores"
   ]
  },
  {
   "cell_type": "code",
   "execution_count": 21,
   "id": "7c5f743c",
   "metadata": {},
   "outputs": [
    {
     "data": {
      "text/plain": [
       "268435454"
      ]
     },
     "execution_count": 21,
     "metadata": {},
     "output_type": "execute_result"
    }
   ],
   "source": [
    "2**28 -2"
   ]
  }
 ],
 "metadata": {
  "kernelspec": {
   "display_name": "Python 3 (ipykernel)",
   "language": "python",
   "name": "python3"
  },
  "language_info": {
   "codemirror_mode": {
    "name": "ipython",
    "version": 3
   },
   "file_extension": ".py",
   "mimetype": "text/x-python",
   "name": "python",
   "nbconvert_exporter": "python",
   "pygments_lexer": "ipython3",
   "version": "3.10.11"
  }
 },
 "nbformat": 4,
 "nbformat_minor": 5
}
